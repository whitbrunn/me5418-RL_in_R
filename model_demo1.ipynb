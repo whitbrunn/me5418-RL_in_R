{
 "cells": [
  {
   "cell_type": "code",
   "execution_count": 1,
   "id": "25274f8f",
   "metadata": {},
   "outputs": [],
   "source": [
    "from keras import layers\n",
    "from keras import models"
   ]
  },
  {
   "cell_type": "markdown",
   "id": "6f49f6bf",
   "metadata": {},
   "source": [
    "生成模型"
   ]
  },
  {
   "cell_type": "code",
   "execution_count": 2,
   "id": "f7403d2d",
   "metadata": {},
   "outputs": [],
   "source": [
    "from keras.applications import VGG16\n",
    "model_vgg16 = VGG16(weights='imagenet',\n",
    "                   include_top=False,\n",
    "                   input_shape=(150,150,3))\n",
    "model_vgg16.trainable=False"
   ]
  },
  {
   "cell_type": "code",
   "execution_count": 3,
   "id": "71ed916c",
   "metadata": {},
   "outputs": [
    {
     "name": "stdout",
     "output_type": "stream",
     "text": [
      "Model: \"sequential\"\n",
      "_________________________________________________________________\n",
      " Layer (type)                Output Shape              Param #   \n",
      "=================================================================\n",
      " vgg16 (Functional)          (None, 4, 4, 512)         14714688  \n",
      "                                                                 \n",
      " flatten (Flatten)           (None, 8192)              0         \n",
      "                                                                 \n",
      " dropout (Dropout)           (None, 8192)              0         \n",
      "                                                                 \n",
      " dense (Dense)               (None, 256)               2097408   \n",
      "                                                                 \n",
      " dense_1 (Dense)             (None, 10)                2570      \n",
      "                                                                 \n",
      "=================================================================\n",
      "Total params: 16,814,666\n",
      "Trainable params: 2,099,978\n",
      "Non-trainable params: 14,714,688\n",
      "_________________________________________________________________\n"
     ]
    }
   ],
   "source": [
    "model1 = models.Sequential()\n",
    "model1.add(model_vgg16)\n",
    "model1.add(layers.Flatten())\n",
    "model1.add(layers.Dropout(0.5))\n",
    "model1.add(layers.Dense(256,activation = 'relu'))\n",
    "model1.add(layers.Dense(10,activation='softmax'))\n",
    "model1.summary()\n"
   ]
  },
  {
   "cell_type": "code",
   "execution_count": 4,
   "id": "67af7050",
   "metadata": {},
   "outputs": [
    {
     "name": "stdout",
     "output_type": "stream",
     "text": [
      "Found 2893 images belonging to 10 classes.\n",
      "Found 1488 images belonging to 10 classes.\n"
     ]
    }
   ],
   "source": [
    "from keras.preprocessing.image import ImageDataGenerator\n",
    "train_dir = 'D:/detection_project/image_database/trainset'\n",
    "test_dir = 'D:/detection_project/image_database/testset'\n",
    "validation_dir = 'D:/detection_project/image_database/validationset'\n",
    "train_datagen1 = ImageDataGenerator(\n",
    "                                    rescale = 1./255,\n",
    "                                    rotation_range= 40,\n",
    "                                    width_shift_range = 0.2,\n",
    "                                    height_shift_range = 0.2,\n",
    "                                    shear_range = 0.2,\n",
    "                                    zoom_range = 0.2,\n",
    "                                    horizontal_flip = True,\n",
    "                                    fill_mode = 'nearest',\n",
    "                                   )\n",
    "test_datagen1 = ImageDataGenerator(rescale = 1./255)\n",
    "train_generator1 = train_datagen1.flow_from_directory(train_dir,\n",
    "                                                      target_size = (150,150),\n",
    "                                                      batch_size = 24,\n",
    "                                                      class_mode = 'categorical',#采用one-hot标签格式\n",
    "                                                      classes=['跑步机', '登山机', '椭圆机', '立式健身车',\n",
    "                 '反向直臂夹胸器', '坐姿肩部推举器', '肩部平举器', '坐姿推胸器',\n",
    "                 '直臂夹胸器', '牧师凳弯举器'])#十种数字图片所在文件夹的名字\n",
    "validation_generator1 = test_datagen1.flow_from_directory(validation_dir,\n",
    "                                                          target_size = (150,150),\n",
    "                                                          batch_size = 24,\n",
    "                                                          class_mode = 'categorical')\n"
   ]
  },
  {
   "cell_type": "markdown",
   "id": "d8cc0e54",
   "metadata": {},
   "source": [
    "编译"
   ]
  },
  {
   "cell_type": "code",
   "execution_count": 5,
   "id": "af0c54b1",
   "metadata": {},
   "outputs": [],
   "source": [
    "from keras import optimizers\n",
    "model1.compile(optimizer=optimizers.RMSprop(learning_rate=1e-4),loss='categorical_crossentropy',metrics=['acc'])"
   ]
  },
  {
   "cell_type": "markdown",
   "id": "45a54bea",
   "metadata": {},
   "source": [
    "训练"
   ]
  },
  {
   "cell_type": "code",
   "execution_count": 6,
   "id": "33c97f53",
   "metadata": {},
   "outputs": [
    {
     "name": "stdout",
     "output_type": "stream",
     "text": [
      "Epoch 1/30\n",
      "120/120 [==============================] - 185s 2s/step - loss: 1.9619 - acc: 0.3158 - val_loss: 3.0529 - val_acc: 0.0514\n",
      "Epoch 2/30\n",
      "120/120 [==============================] - 202s 2s/step - loss: 1.6144 - acc: 0.4252 - val_loss: 3.8543 - val_acc: 0.0368\n",
      "Epoch 3/30\n",
      "120/120 [==============================] - 201s 2s/step - loss: 1.4417 - acc: 0.4887 - val_loss: 4.3016 - val_acc: 0.0257\n",
      "Epoch 4/30\n",
      "120/120 [==============================] - 191s 2s/step - loss: 1.4149 - acc: 0.4970 - val_loss: 4.7172 - val_acc: 0.0264\n",
      "Epoch 5/30\n",
      "120/120 [==============================] - 190s 2s/step - loss: 1.3464 - acc: 0.5180 - val_loss: 4.8231 - val_acc: 0.0375\n",
      "Epoch 6/30\n",
      "120/120 [==============================] - 189s 2s/step - loss: 1.3320 - acc: 0.5218 - val_loss: 4.9738 - val_acc: 0.0306\n",
      "Epoch 7/30\n",
      "120/120 [==============================] - 197s 2s/step - loss: 1.2694 - acc: 0.5455 - val_loss: 5.1945 - val_acc: 0.0285\n",
      "Epoch 8/30\n",
      "120/120 [==============================] - 189s 2s/step - loss: 1.2544 - acc: 0.5514 - val_loss: 5.5121 - val_acc: 0.0292\n",
      "Epoch 9/30\n",
      "120/120 [==============================] - 189s 2s/step - loss: 1.2475 - acc: 0.5542 - val_loss: 5.3763 - val_acc: 0.0382\n",
      "Epoch 10/30\n",
      "120/120 [==============================] - 192s 2s/step - loss: 1.2218 - acc: 0.5580 - val_loss: 5.7034 - val_acc: 0.0236\n",
      "Epoch 11/30\n",
      "120/120 [==============================] - 195s 2s/step - loss: 1.2031 - acc: 0.5723 - val_loss: 5.7248 - val_acc: 0.0326\n",
      "Epoch 12/30\n",
      "120/120 [==============================] - 192s 2s/step - loss: 1.1815 - acc: 0.5702 - val_loss: 5.9013 - val_acc: 0.0222\n",
      "Epoch 13/30\n",
      "120/120 [==============================] - 189s 2s/step - loss: 1.1901 - acc: 0.5755 - val_loss: 5.8438 - val_acc: 0.0368\n",
      "Epoch 14/30\n",
      "120/120 [==============================] - 190s 2s/step - loss: 1.1460 - acc: 0.5779 - val_loss: 6.1886 - val_acc: 0.0285\n",
      "Epoch 15/30\n",
      "120/120 [==============================] - 191s 2s/step - loss: 1.1648 - acc: 0.5786 - val_loss: 5.8412 - val_acc: 0.0361\n",
      "Epoch 16/30\n",
      "120/120 [==============================] - 197s 2s/step - loss: 1.1122 - acc: 0.6033 - val_loss: 6.2459 - val_acc: 0.0264\n",
      "Epoch 17/30\n",
      "120/120 [==============================] - 194s 2s/step - loss: 1.1433 - acc: 0.5852 - val_loss: 6.0689 - val_acc: 0.0292\n",
      "Epoch 18/30\n",
      "120/120 [==============================] - 191s 2s/step - loss: 1.1451 - acc: 0.5880 - val_loss: 6.3568 - val_acc: 0.0285\n",
      "Epoch 19/30\n",
      "120/120 [==============================] - 190s 2s/step - loss: 1.1256 - acc: 0.5953 - val_loss: 6.4348 - val_acc: 0.0243\n",
      "Epoch 20/30\n",
      "120/120 [==============================] - 191s 2s/step - loss: 1.1006 - acc: 0.5995 - val_loss: 6.2717 - val_acc: 0.0319\n",
      "Epoch 21/30\n",
      "120/120 [==============================] - 198s 2s/step - loss: 1.1059 - acc: 0.6006 - val_loss: 6.4741 - val_acc: 0.0299\n",
      "Epoch 22/30\n",
      "120/120 [==============================] - 190s 2s/step - loss: 1.1023 - acc: 0.5992 - val_loss: 6.6199 - val_acc: 0.0292\n",
      "Epoch 23/30\n",
      "120/120 [==============================] - 190s 2s/step - loss: 1.0980 - acc: 0.5985 - val_loss: 6.4883 - val_acc: 0.0243\n",
      "Epoch 24/30\n",
      "120/120 [==============================] - 190s 2s/step - loss: 1.0734 - acc: 0.6030 - val_loss: 6.5034 - val_acc: 0.0312\n",
      "Epoch 25/30\n",
      "120/120 [==============================] - 193s 2s/step - loss: 1.0716 - acc: 0.6030 - val_loss: 6.8218 - val_acc: 0.0208\n",
      "Epoch 26/30\n",
      "120/120 [==============================] - 195s 2s/step - loss: 1.0806 - acc: 0.6016 - val_loss: 6.7051 - val_acc: 0.0271\n",
      "Epoch 27/30\n",
      "120/120 [==============================] - 190s 2s/step - loss: 1.0788 - acc: 0.6121 - val_loss: 7.1378 - val_acc: 0.0326\n",
      "Epoch 28/30\n",
      "120/120 [==============================] - 190s 2s/step - loss: 1.0551 - acc: 0.6131 - val_loss: 7.0590 - val_acc: 0.0208\n",
      "Epoch 29/30\n",
      "120/120 [==============================] - 193s 2s/step - loss: 1.0683 - acc: 0.6162 - val_loss: 7.1306 - val_acc: 0.0264\n",
      "Epoch 30/30\n",
      "120/120 [==============================] - 200s 2s/step - loss: 1.0726 - acc: 0.6114 - val_loss: 6.9575 - val_acc: 0.0222\n"
     ]
    }
   ],
   "source": [
    "history1 = model1.fit(train_generator1,\n",
    "                              steps_per_epoch=120,\n",
    "                              epochs=30,\n",
    "                              validation_data = validation_generator1,\n",
    "                              validation_steps= 60)"
   ]
  },
  {
   "cell_type": "code",
   "execution_count": 7,
   "id": "889650e6",
   "metadata": {},
   "outputs": [],
   "source": [
    "model1.save('model1_clsf_10.h5')"
   ]
  },
  {
   "cell_type": "markdown",
   "id": "b9abfe35",
   "metadata": {},
   "source": [
    "显示结果"
   ]
  },
  {
   "cell_type": "code",
   "execution_count": 8,
   "id": "bfe53c98",
   "metadata": {},
   "outputs": [
    {
     "data": {
      "text/plain": [
       "<matplotlib.legend.Legend at 0x16f5c8269a0>"
      ]
     },
     "execution_count": 8,
     "metadata": {},
     "output_type": "execute_result"
    },
    {
     "data": {
      "image/png": "[encoded data removed]",
      "text/plain": [
       "<Figure size 432x288 with 1 Axes>"
      ]
     },
     "metadata": {
      "needs_background": "light"
     },
     "output_type": "display_data"
    },
    {
     "data": {
      "image/png": "[encoded data removed]",
      "text/plain": [
       "<Figure size 432x288 with 1 Axes>"
      ]
     },
     "metadata": {
      "needs_background": "light"
     },
     "output_type": "display_data"
    }
   ],
   "source": [
    "import matplotlib.pyplot as plt\n",
    "acc1 = history1.history['acc']\n",
    "val_acc1 = history1.history['val_acc']\n",
    "loss1 = history1.history['loss']\n",
    "val_loss1 = history1.history['val_loss']\n",
    "\n",
    "epochs1 = range(1,len(acc1)+1)\n",
    "\n",
    "plt.plot(epochs1,acc1,'bo',label = 'Training acc')\n",
    "plt.plot(epochs1,val_acc1,'b',label = 'Validation acc')\n",
    "plt.title(\"training and validation accuracy\")\n",
    "plt.legend()\n",
    "\n",
    "\n",
    "plt.figure()\n",
    "\n",
    "plt.plot(epochs1,loss1,'bo',label = 'Training loss')\n",
    "plt.plot(epochs1,val_loss1,'b',label = 'Validation loss')\n",
    "plt.title(\"training and validation loss\")\n",
    "plt.legend()"
   ]
  },
  {
   "cell_type": "markdown",
   "id": "e389e1df",
   "metadata": {},
   "source": [
    "测试集准确率"
   ]
  },
  {
   "cell_type": "code",
   "execution_count": 10,
   "id": "e0eff3e0",
   "metadata": {},
   "outputs": [
    {
     "name": "stdout",
     "output_type": "stream",
     "text": [
      "Found 1521 images belonging to 10 classes.\n",
      "50/50 [==============================] - 51s 1s/step - loss: 7.1039 - acc: 0.0158\n",
      "test acc 0.015833333134651184\n"
     ]
    }
   ],
   "source": [
    "test_generator1 = test_datagen1.flow_from_directory(test_dir,\n",
    "                                                          target_size = (150,150),\n",
    "                                                          batch_size = 24,\n",
    "                                                          class_mode = 'categorical')\n",
    "test_loss,test_acc = model1.evaluate(test_generator1,steps=50)\n",
    "print('test acc',test_acc)"
   ]
  },
  {
   "cell_type": "code",
   "execution_count": null,
   "id": "fc42a25d",
   "metadata": {},
   "outputs": [],
   "source": []
  }
 ],
 "metadata": {
  "kernelspec": {
   "display_name": "Python 3",
   "language": "python",
   "name": "python3"
  },
  "language_info": {
   "codemirror_mode": {
    "name": "ipython",
    "version": 3
   },
   "file_extension": ".py",
   "mimetype": "text/x-python",
   "name": "python",
   "nbconvert_exporter": "python",
   "pygments_lexer": "ipython3",
   "version": "3.8.8"
  }
 },
 "nbformat": 4,
 "nbformat_minor": 5
}
